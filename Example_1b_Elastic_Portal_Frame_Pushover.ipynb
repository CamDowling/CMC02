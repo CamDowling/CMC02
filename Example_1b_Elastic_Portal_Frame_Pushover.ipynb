{
 "cells": [
  {
   "cell_type": "markdown",
   "metadata": {},
   "source": [
    "<font color=\"red\"><h1>OpenSees Examples Manual using OpenSeesPy!</h1></font>\n",
    "<h2><u>OpenSees Example 1b</u></h2>\n",
    "<h2>Elastic Portal Frame -- Static Pushover</h2>\n",
    "\n",
    "You can find the original OpenSees examples manual using Tcl [here](https://opensees.berkeley.edu/wiki/index.php/Examples_Manual). (Original Examples in Tcl by Silvia Mazzoni & Frank McKenna, 2006.)\n",
    "\n",
    "<h2><u>Simulation Process</u></h2>\n",
    "\n",
    "In the following example, an input file (python script) is created to conduct a simulation in OpenSees. The process of creating the input file is broken-down into the following parts: \n",
    "### 1. Model definition\n",
    "### 2. Output specification\n",
    "### 3. Loads and Analysis\n",
    "- Define gravity loads\n",
    "- Analyse gravity loads\n",
    "- Define lateral loads\n",
    "- Analyse lateral loads"
   ]
  },
  {
   "cell_type": "markdown",
   "metadata": {},
   "source": [
    "<h1> OpenSees Examples Manual Examples for OpenSeesPy</h1>\n",
    "<h2>OpenSees Example 1b. Elastic Portal Frame -- Static Pushover</h2>\n",
    "\n",
    "<h2> Simulation Process</h2>\n",
    "\n",
    "Each example script does the following:\n",
    "<h3>A. Build the model</h3>\n",
    "<ol>\n",
    "    <li>model dimensions and degrees-of-freedom</li>\n",
    "    <li>nodal coordinates</li>\n",
    "    <li>nodal constraints -- boundary conditions</li>\n",
    "    <li>nodal masses</li>\n",
    "    <li>elements and element connectivity</li>\n",
    "    <li>recorders for output</li>\n",
    "</ol>\n",
    "<h3>B. Define & apply gravity load</h3>\n",
    "<ol>\n",
    "    <li>nodal or element load</li>\n",
    "    <li>static-analysis parameters (tolerances & load increments)</li>\n",
    "    <li>analyze</li>\n",
    "    <li>hold gravity loads constant</li>\n",
    "    <li>reset time to zero</li>\n",
    "</ol>\n",
    "<h3>C. Define and apply lateral load</h3>\n",
    "<dl>\n",
    "<li>Time Series and Load Pattern (nodal loads for static analysis, support ground motion for earthquake)</li>\n",
    "<li>lateral-analysis parameters (tolerances and displacement/time increments)</li>\n",
    "<b>Static Lateral-Load Analysis</b>\n",
    "<li>define the displacement increments and displacement path</li>\n",
    "<b>Dynamic Lateral-Load Analysis</b>\n",
    "<li>define the input motion and all associated parameters, such as scaling and input type</li>\n",
    "<li>define analysis duration and time increment</li>\n",
    "<li>define damping</li>\n",
    "<li>analyze</li>\n",
    "<p>    \n",
    "    \n",
    "<b>Introductory Examples</b>\n",
    "The objective of Example 1a and Example 1b is to give an overview of input-file format in OpenSees using simple scripts.\n"
   ]
  },
  {
   "cell_type": "markdown",
   "metadata": {},
   "source": [
    "<h1> OpenSees Example 1b. <br>\n",
    "    2D Elastic Portal Frame -- Static Pushover</h1>\n",
    "Introduction\n",
    "\n",
    "<b> Example 1b introduces the use of</b>\n",
    "- Two element types <br>\n",
    "- Distributed element loads <br>\n",
    "\n",
    "<img src=\"https://opensees.berkeley.edu/wiki/images/5/59/Example1b_Push.GIF\">\n"
   ]
  },
  {
   "cell_type": "code",
   "execution_count": 6,
   "metadata": {},
   "outputs": [],
   "source": [
    "# Import required modules\n",
    "import openseespy.opensees as ops  # OpenSeesPy: The Python interface for OpenSees, used for finite element analysis.\n",
    "import opsvis as opsv  # Visualization tool for OpenSees models.\n",
    "import os  # Provides functions for interacting with the operating system.\n",
    "import numpy as np # Python library used for scientific computing\n",
    "import matplotlib.pyplot as plt  # Plotting library for data visualization."
   ]
  },
  {
   "cell_type": "code",
   "execution_count": 7,
   "metadata": {},
   "outputs": [],
   "source": [
    "# Check if a directory named 'Data' exists; if not, create one.\n",
    "# This directory will store any data or results generated during the simulation.\n",
    "if not os.path.exists('Data'): \n",
    "    os.mkdir('Data')"
   ]
  },
  {
   "cell_type": "markdown",
   "metadata": {},
   "source": [
    "## Units"
   ]
  },
  {
   "cell_type": "code",
   "execution_count": 8,
   "metadata": {},
   "outputs": [],
   "source": [
    "# all units are in kip, inch, second\n",
    "\n",
    "\n",
    "# Defining base units for the simulation.\n",
    "m = 1.0  # Meter (base unit for length)\n",
    "s = 1.0  # Second (base unit for time)\n",
    "kg = 1.0  # Kilogram (base unit for mass)\n",
    "\n",
    "# Derived units for force and pressure.\n",
    "N = kg * m / s ** 2  # Newton (unit of force)\n",
    "Pa = N / m ** 2  # Pascal (unit of pressure)\n",
    "\n",
    "# Additional conversions for different units commonly used in structural engineering.\n",
    "inches = 0.0254 * m  # Conversion factor for inches to meters.\n",
    "ft = 12 * inches  # Conversion factor for feet to meters.\n",
    "kip = 4448.2216152548 * N  # Conversion factor for kips (1000 pounds-force) to Newtons.\n",
    "ksi = 6.895 * 10 ** 6 * Pa  # Conversion factor for ksi (1000 psi) to Pascals."
   ]
  },
  {
   "cell_type": "markdown",
   "metadata": {},
   "source": [
    "## Input Variables"
   ]
  },
  {
   "cell_type": "code",
   "execution_count": 9,
   "metadata": {},
   "outputs": [],
   "source": [
    "# colL = 36 * ft # Column length\n",
    "beam_length = 42.0 * ft\n",
    "column_length = 36.0 * ft\n",
    "\n",
    "# Nodal coordinates\n",
    "n1 = (0.0, 0.0) # Use floating point values\n",
    "n2 = (beam_length, 0.0)\n",
    "n3 = (0.0, column_length)\n",
    "n4 = (beam_length, column_length)\n",
    "\n",
    "# # Cross-sectional dimensions\n",
    "# b = 5 * ft # Breadth\n",
    "# d = 5 * ft # Depth\n",
    "# A = b * d # Area\n",
    "\n",
    "# # Elastic Modulus\n",
    "# E = 4227 * ksi\n",
    "\n",
    "# # Moment of Inertia\n",
    "# Iz = (b * d ** 3) / 12\n",
    "\n",
    "# Loads/Actions\n",
    "Py = -4000.0 * kip # Gravity load\n",
    "w = Py / beam_length # Uniformly distributed load (N/m)"
   ]
  },
  {
   "cell_type": "code",
   "execution_count": 10,
   "metadata": {},
   "outputs": [
    {
     "name": "stdout",
     "output_type": "stream",
     "text": [
      "The nodal mass value corresponding to the horizontal DOF is 1813750 kg\n"
     ]
    }
   ],
   "source": [
    "# Px = 1 # Lateral load\n",
    "\n",
    "g = 9.81 # Gravitational acceleration (N / kg)\n",
    "\n",
    "# Nodal mass\n",
    "mass_x = abs(Py) / g # kg\n",
    "print(f'The nodal mass value corresponding to the horizontal DOF is {mass_x:.0f} kg') # \n",
    "massValues = [mass_x, 1 * 10 ** -9, 0.0] # ndf nodal mass values corresponding to each DOF"
   ]
  },
  {
   "cell_type": "markdown",
   "metadata": {},
   "source": [
    "## Model definition"
   ]
  },
  {
   "cell_type": "code",
   "execution_count": 11,
   "metadata": {},
   "outputs": [
    {
     "data": {
      "text/plain": [
       "Text(0.5, 1.0, 'plot_model after defining elements')"
      ]
     },
     "execution_count": 11,
     "metadata": {},
     "output_type": "execute_result"
    },
    {
     "data": {
      "image/png": "[encoded data removed]",
      "text/plain": [
       "<Figure size 640x480 with 1 Axes>"
      ]
     },
     "metadata": {},
     "output_type": "display_data"
    }
   ],
   "source": [
    "ops.wipe() # Clear opensees model\n",
    "ops.model('basic','-ndm',2,'-ndf',3)     #  # 2D model with 3 degrees of freedom per node.\n",
    "\n",
    "# define GEOMETRY -------------------------------------------------------------\n",
    "\n",
    "# Create nodes\n",
    "nodal_crds = (n1, n2, n3, n4)\n",
    "for nodeTag, crds in enumerate(nodal_crds, start = 1): # https://docs.python.org/3/library/functions.html#enumerate\n",
    "    ops.node(nodeTag, *crds)\n",
    "\n",
    "\n",
    "# Plot Model\n",
    "opsv.plot_model()\n",
    "plt.title('plot_model after defining elements')"
   ]
  },
  {
   "cell_type": "code",
   "execution_count": 12,
   "metadata": {},
   "outputs": [
    {
     "name": "stdout",
     "output_type": "stream",
     "text": [
      "Done!\n"
     ]
    }
   ],
   "source": [
    "# Single point constraints -- Boundary Conditions\n",
    "fully_fixed = [1, 1, 1]\n",
    "free = [0, 0, 0]\n",
    "\n",
    "ops.fix(1, *fully_fixed)     #  node DX DY RZ\n",
    "ops.fix(2, *fully_fixed)     #  node DX DY RZ\n",
    "ops.fix(3, *free)\n",
    "ops.fix(4, *free)\n",
    "\n",
    "# nodal masses:\n",
    "ops.mass(3,5.18,0.,0.)     #  node , Mx My Mz, Mass=Weight/g.\n",
    "ops.mass(4,5.18,0.,0.)\n",
    "\n",
    "# Define ELEMENTS -------------------------------------------------------------\n",
    "# define geometric transformation: performs a linear geometric transformation of beam stiffness and resisting force from the basic system to the global-coordinate system\n",
    "ops.geomTransf('Linear',1)     #  associate a tag to transformation\n",
    "\n",
    "# connectivity: (make A very large, 10e6 times its actual value)\n",
    "ops.element('elasticBeamColumn',1,1,3,3600000000,4227,1080000,1)     #  element elasticBeamColumn eleTag iNode jNode A E Iz transfTag\n",
    "ops.element('elasticBeamColumn',2,2,4,3600000000,4227,1080000,1)\n",
    "ops.element('elasticBeamColumn',3,3,4,5760000000,4227,4423680,1)\n",
    "\n",
    "# Define RECORDERS -------------------------------------------------------------\n",
    "ops.recorder('Node','-file','Data/DFreeEx1bPush.out','-time','-node',3,4,'-dof',1,2,3,'disp')     #  displacements of free nodes\n",
    "ops.recorder('Node','-file','Data/DBaseEx1bPush.out','-time','-node',1,2,'-dof',1,2,3,'disp')     #  displacements of support nodes\n",
    "ops.recorder('Node','-file','Data/RBaseEx1bPush.out','-time','-node',1,2,'-dof',1,2,3,'reaction')     #  support reaction\n",
    "ops.recorder('Element','-file','Data/FColEx1bPush.out','-time','-ele',1,2,'globalForce')     #  element forces -- column\n",
    "ops.recorder('Element','-file','Data/FBeamEx1bPush.out','-time','-ele',3,'globalForce')     #  element forces -- beam\n",
    "\n",
    "# define GRAVITY -------------------------------------------------------------\n",
    "ops.timeSeries('Linear',1)     # timeSeries Linear 1;\n",
    "# define Load Pattern\n",
    "ops.pattern('Plain',1,1) # \n",
    "ops.eleLoad('-ele',3,'-type','-beamUniform', w)     #  distributed superstructure-weight on beam\n",
    "\n",
    "ops.wipeAnalysis()     # adding this to clear Analysis module \n",
    "ops.constraints('Plain')     #  how it handles boundary conditions\n",
    "ops.numberer('Plain')     #  renumber dofs to minimize band-width (optimization), if you want to\n",
    "ops.system('BandGeneral')     #  how to store and solve the system of equations in the analysis\n",
    "ops.test('NormDispIncr',1.0e-8,6)     #  determine if convergence has been achieved at the end of an iteration step\n",
    "ops.algorithm('Newton')     #  use Newtons solution algorithm: updates tangent stiffness at every iteration\n",
    "ops.integrator('LoadControl',0.1)     #  determine the next time step for an analysis,   apply gravity in 10 steps\n",
    "ops.analysis('Static')     #  define type of analysis static or transient\n",
    "ops.analyze(10)     #  perform gravity analysis\n",
    "ops.loadConst('-time',0.0)     #  hold gravity constant and restart time\n",
    "\n",
    "# define LATERAL load -------------------------------------------------------------\n",
    "# Lateral load pattern\n",
    "ops.timeSeries('Linear',2)     # timeSeries Linear 2;\n",
    "# define Load Pattern\n",
    "ops.pattern('Plain',2,2) # \n",
    "ops.load(3,2000.,0.0,0.0)     #  node , FX FY MZ -- representative lateral load at top nodes\n",
    "ops.load(4,2000.,0.0,0.0)     #  place 1/2 of the weight for each node to get shear coefficient\n",
    " \n",
    "# pushover: diplacement controlled static analysis\n",
    "ops.integrator('DisplacementControl',3,1,0.1)     #  switch to displacement control, for node 11, dof 1, 0.1 increment\n",
    "ops.analyze(100)     #  apply 100 steps of pushover analysis to a displacement of 10\n",
    "\n",
    "print('Done!')\n",
    "\n",
    "\n",
    "\n"
   ]
  },
  {
   "cell_type": "code",
   "execution_count": 14,
   "metadata": {},
   "outputs": [
    {
     "name": "stdout",
     "output_type": "stream",
     "text": [
      "End of Run: pyEx1b.Portal2D.Push.tcl.py\n"
     ]
    },
    {
     "data": {
      "image/png": "[encoded data removed]",
      "text/plain": [
       "<Figure size 640x480 with 2 Axes>"
      ]
     },
     "metadata": {},
     "output_type": "display_data"
    }
   ],
   "source": [
    "ops.wipe() # the wipe command here closes all recorder files\n",
    "plt.close('all')\n",
    "fname3 = 'Data/DFreeEx1bPush.out'\n",
    "dataDFree = np.loadtxt(fname3)\n",
    "plt.subplot(211)\n",
    "plt.title('Ex1b.Portal2D.Push.tcl')\n",
    "plt.grid(True)\n",
    "plt.plot(dataDFree[:,1])\n",
    "plt.xlabel('Step Number')\n",
    "plt.ylabel('Free-Node Displacement')\n",
    "plt.subplot(212)\n",
    "plt.grid(True)\n",
    "plt.plot(dataDFree[:,1],dataDFree[:,0])\n",
    "plt.xlabel('Free-Node Disp.')\n",
    "plt.ylabel('Pseudo-Time (~Force)')\n",
    "print('End of Run: pyEx1b.Portal2D.Push.tcl.py')"
   ]
  }
 ],
 "metadata": {
  "kernelspec": {
   "display_name": "venv_CMC02",
   "language": "python",
   "name": "python3"
  },
  "language_info": {
   "codemirror_mode": {
    "name": "ipython",
    "version": 3
   },
   "file_extension": ".py",
   "mimetype": "text/x-python",
   "name": "python",
   "nbconvert_exporter": "python",
   "pygments_lexer": "ipython3",
   "version": "3.11.5"
  }
 },
 "nbformat": 4,
 "nbformat_minor": 4
}
