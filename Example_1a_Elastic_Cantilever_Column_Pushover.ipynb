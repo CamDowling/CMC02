{
 "cells": [
  {
   "cell_type": "markdown",
   "metadata": {},
   "source": [
    "<font color=\"red\"><h1>OpenSees Examples Manual using OpenSeesPy!</h1></font> \n",
    "\n",
    "You can find the original OpenSees examples manual using Tcl [here](https://opensees.berkeley.edu/wiki/index.php/Examples_Manual). (Original Examples in Tcl by Silvia Mazzoni & Frank McKenna, 2006.)\n",
    "\n",
    "<h2><u>Simulation Process</u></h2>\n",
    "\n",
    "In each of the following examples, an input file (python script) is created to conduct a simulation in OpenSees. The process of creating the input file is broken-down into three main parts: \n",
    "### 1. Model definition (General)\n",
    "### 2. Output specification\n",
    "### 3. Loads and Analysis\n",
    "- Model definition (Gravity loads)\n",
    "- Analysis generation (Gravity loads)\n",
    "- Model definition (Lateral loads)\n",
    "- Analysis generation (Lateral loads)\n",
    "\n",
    "\n"
   ]
  },
  {
   "cell_type": "markdown",
   "metadata": {},
   "source": [
    "<h2><u>OpenSees Example 1a</u></h2>\n",
    "\n",
    "### 2D Elastic Cantilever Column -- Static Pushover\n",
    "\n",
    "This example has previously been converted to OpenSeesPy by SilviaMazzoni, 2020. The script can be found on her github page [here](https://github.com/silviamazzoni/OpenSeesPy_ExamplesManual/blob/main/BraineryBytes_OpenSees_Examples_Manual_Example_1a_Elastic_Cantilever_Column_Pushover.ipynb).\n",
    "\n",
    "Introductory example 1a is a simple model of an elastic cantilever column. \n",
    "\n",
    "<img src=\"https://opensees.berkeley.edu/wiki/images/e/ec/Example1a_Push.GIF\">\n"
   ]
  },
  {
   "cell_type": "code",
   "execution_count": 179,
   "metadata": {},
   "outputs": [],
   "source": [
    "# Import required modules\n",
    "import openseespy.opensees as ops\n",
    "import opsvis as opsv\n",
    "import os\n",
    "import numpy as np\n",
    "import matplotlib.pyplot as plt\n",
    "\n",
    "import ipywidgets as widgets\n",
    "from IPython.display import display"
   ]
  },
  {
   "cell_type": "code",
   "execution_count": 180,
   "metadata": {},
   "outputs": [],
   "source": [
    "# --------------------------------------------------------------------------------------------------\n",
    "# Example 1a. cantilever 2D\n",
    "# static pushover analysis with gravity.\n",
    "# elasticBeamColumn ELEMENT\n",
    "# Silvia Mazzoni and Frank McKenna, 2006\n",
    "\n",
    "# SET UP ----------------------------------------------------------------------------\n",
    "if not os.path.exists('Data'): # Create Data directory\n",
    "    os.mkdir('Data')"
   ]
  },
  {
   "cell_type": "markdown",
   "metadata": {},
   "source": [
    "## Units"
   ]
  },
  {
   "cell_type": "code",
   "execution_count": 181,
   "metadata": {},
   "outputs": [],
   "source": [
    "m = 1.0\n",
    "s = 1.0\n",
    "kg = 1.0\n",
    "\n",
    "N = kg * m / s ** 2\n",
    "Pa = N / m ** 2\n",
    "\n",
    "# Conversions\n",
    "inches = 0.0254 * m\n",
    "ft = 12 * inches\n",
    "kip = 4448.2216152548 * N\n",
    "ksi = 6.895 * 10 ** 6 * Pa"
   ]
  },
  {
   "cell_type": "markdown",
   "metadata": {},
   "source": [
    "## Input Variables"
   ]
  },
  {
   "cell_type": "code",
   "execution_count": 182,
   "metadata": {},
   "outputs": [
    {
     "data": {
      "application/vnd.jupyter.widget-view+json": {
       "model_id": "0b3defb57ad34c47b5eef1638d1fd40d",
       "version_major": 2,
       "version_minor": 0
      },
      "text/plain": [
       "IntSlider(value=0, description='Column Length:')"
      ]
     },
     "metadata": {},
     "output_type": "display_data"
    }
   ],
   "source": [
    "# Initialize the variable\n",
    "colL = 36\n",
    "\n",
    "# Create an IntSlider widget\n",
    "slider = widgets.IntSlider(value=0, min=0, max=100, step=1, description='Column Length:')\n",
    "\n",
    "# Function to update the variable based on slider value\n",
    "def update_variable(change):\n",
    "    global colL\n",
    "    colL = change['new']\n",
    "    # print(f'Updated colL: {colL}')\n",
    "\n",
    "# Observe changes in the slider's value\n",
    "slider.observe(update_variable, names='value')\n",
    "\n",
    "# Display the slider\n",
    "display(slider)"
   ]
  },
  {
   "cell_type": "code",
   "execution_count": 183,
   "metadata": {},
   "outputs": [
    {
     "name": "stdout",
     "output_type": "stream",
     "text": [
      "36\n"
     ]
    }
   ],
   "source": [
    "print(colL)\n",
    "\n",
    "colL = colL * ft # Column length\n",
    "\n",
    "# Nodal coordinates\n",
    "n1 = (0.0, 0.0) # Use floating point values\n",
    "n2 = (0.0, colL)\n",
    "\n",
    "# Cross-sectional dimensions\n",
    "b = 5 * ft # Breadth\n",
    "d = 5 * ft # Depth\n",
    "A = b * d # Area\n",
    "\n",
    "# Elastic Modulus\n",
    "E = 4227 * ksi\n",
    "\n",
    "# Moment of Inertia\n",
    "Iz = (b * d ** 3) / 12\n",
    "\n",
    "# Loads/Actions\n",
    "Py = -2000.0 * kip # Gravity load"
   ]
  },
  {
   "cell_type": "markdown",
   "metadata": {},
   "source": [
    "We will perform a displacement-controlled static analysis, so any non-zero value for the lateral load can be used. The specific value of the lateral load will not affect the results."
   ]
  },
  {
   "cell_type": "code",
   "execution_count": 184,
   "metadata": {},
   "outputs": [
    {
     "name": "stdout",
     "output_type": "stream",
     "text": [
      "The nodal mass value corresponding to the horizontal DOF is 906875 kg\n"
     ]
    }
   ],
   "source": [
    "Px = 1 # Lateral load\n",
    "\n",
    "g = 9.81 # Gravitational acceleration (N / kg)\n",
    "\n",
    "# Nodal mass\n",
    "mass_x = abs(Py) / g # kg\n",
    "print(f'The nodal mass value corresponding to the horizontal DOF is {mass_x:.0f} kg') # \n",
    "massValues = [mass_x, 1 * 10 ** -9, 0.0] # ndf nodal mass values corresponding to each DOF\n"
   ]
  },
  {
   "cell_type": "markdown",
   "metadata": {},
   "source": [
    "## Model definition (General)"
   ]
  },
  {
   "cell_type": "markdown",
   "metadata": {},
   "source": [
    "Wipe command:  [OpenSeesPy](https://openseespydoc.readthedocs.io/en/latest/src/wipe.html), [OpenSees Tcl](https://opensees.berkeley.edu/wiki/index.php?title=Wipe_Command)"
   ]
  },
  {
   "cell_type": "code",
   "execution_count": 185,
   "metadata": {},
   "outputs": [],
   "source": [
    "# wipe()\n",
    "\n",
    "ops.wipe()  # Clear opensees model"
   ]
  },
  {
   "cell_type": "markdown",
   "metadata": {},
   "source": [
    "Model command:  [OpenSeesPy](https://openseespydoc.readthedocs.io/en/latest/src/model.html), [OpenSees Tcl](https://opensees.berkeley.edu/wiki/index.php?title=Model_command)"
   ]
  },
  {
   "cell_type": "code",
   "execution_count": 186,
   "metadata": {},
   "outputs": [],
   "source": [
    "# model('basic', '-ndm', ndm, '-ndf', ndf=ndm*(ndm+1)/2)\n",
    "\n",
    "ops.model('basic', '-ndm', 2, '-ndf', 3)    # 2 dimensions, 3 dof per node"
   ]
  },
  {
   "cell_type": "markdown",
   "metadata": {},
   "source": [
    "Node command:  [OpenSeesPy](https://openseespydoc.readthedocs.io/en/latest/src/node.html), [OpenSees Tcl](https://opensees.berkeley.edu/wiki/index.php?title=Node_command)"
   ]
  },
  {
   "cell_type": "code",
   "execution_count": 187,
   "metadata": {},
   "outputs": [],
   "source": [
    "# # define GEOMETRY -------------------------------------------------------------\n",
    "# # nodal coordinates:\n",
    "# ops.node(1, *n1)  # node , X Y\n",
    "# ops.node(2, *n2)\n",
    "\n",
    "# Create nodes\n",
    "nodes = (n1, n2)\n",
    "for num, node in enumerate(nodes, start = 1): # https://docs.python.org/3/library/functions.html#enumerate\n",
    "    ops.node(num, *node)"
   ]
  },
  {
   "cell_type": "code",
   "execution_count": 188,
   "metadata": {},
   "outputs": [],
   "source": [
    "# Set boundary conditions\n",
    "# Single point constraints -- Boundary Conditions\n",
    "ops.fix(1,1,1,1)     #  node DX DY RZ"
   ]
  },
  {
   "cell_type": "code",
   "execution_count": 189,
   "metadata": {},
   "outputs": [
    {
     "data": {
      "text/plain": [
       "Text(0.5, 1.0, 'plot_model after defining nodes')"
      ]
     },
     "execution_count": 189,
     "metadata": {},
     "output_type": "execute_result"
    },
    {
     "data": {
      "image/png": "[encoded data removed]",
      "text/plain": [
       "<Figure size 640x480 with 1 Axes>"
      ]
     },
     "metadata": {},
     "output_type": "display_data"
    }
   ],
   "source": [
    "opsv.plot_model()\n",
    "plt.title('plot_model after defining nodes')"
   ]
  },
  {
   "cell_type": "code",
   "execution_count": 190,
   "metadata": {},
   "outputs": [],
   "source": [
    "# Define ELEMENTS -------------------------------------------------------------\n",
    "# define geometric transformation: performs a linear geometric transformation of beam stiffness\n",
    "# and resisting force from the local-coordinate system to the global-coordinate system\n",
    "# geomTransf('Linear', transfTag, '-jntOffset', *dI, *dJ)\n",
    "ops.geomTransf('Linear', 1)     #  associate a tag to transformation"
   ]
  },
  {
   "cell_type": "code",
   "execution_count": 191,
   "metadata": {},
   "outputs": [],
   "source": [
    "# # Define Materials\n",
    "# ops.uniaxialMaterial(\"Elastic\", 1, E)"
   ]
  },
  {
   "cell_type": "code",
   "execution_count": 192,
   "metadata": {},
   "outputs": [],
   "source": [
    "# connectivity: (make A very large, 10e6 times its actual value)\n",
    "# element elasticBeamColumn eleTag iNode jNode A E Iz transfTag\n",
    "ops.element('elasticBeamColumn', 1, 1, 2, A * 10 ** 6, E, Iz, 1)     # element elasticBeamColumn 1 1 2 3600000000 4227 1080000 1;"
   ]
  },
  {
   "cell_type": "code",
   "execution_count": 193,
   "metadata": {},
   "outputs": [
    {
     "data": {
      "text/plain": [
       "Text(0.5, 1.0, 'plot_model after defining elements')"
      ]
     },
     "execution_count": 193,
     "metadata": {},
     "output_type": "execute_result"
    },
    {
     "data": {
      "image/png": "[encoded data removed]",
      "text/plain": [
       "<Figure size 640x480 with 1 Axes>"
      ]
     },
     "metadata": {},
     "output_type": "display_data"
    }
   ],
   "source": [
    "opsv.plot_model()\n",
    "plt.title('plot_model after defining elements')"
   ]
  },
  {
   "cell_type": "code",
   "execution_count": 194,
   "metadata": {},
   "outputs": [],
   "source": [
    "# nodal masses: Time - 23:30, 32:20\n",
    "ops.mass(2, *massValues)     #  node ,  Mass=Weight/g."
   ]
  },
  {
   "cell_type": "markdown",
   "metadata": {},
   "source": [
    "## Output specification"
   ]
  },
  {
   "cell_type": "code",
   "execution_count": 195,
   "metadata": {},
   "outputs": [
    {
     "data": {
      "text/plain": [
       "34"
      ]
     },
     "execution_count": 195,
     "metadata": {},
     "output_type": "execute_result"
    }
   ],
   "source": [
    "# Define RECORDERS -------------------------------------------------------------\n",
    "\n",
    "# https://openseespydoc.readthedocs.io/en/latest/src/nodeRecorder.html#node-recorder-command\n",
    "# recorder('Node', '-file', filename, '-time', '-node', *nodeTags=[], '-dof', *dofs=[], respType)\n",
    "dofs = [1, 2, 3]\n",
    "ops.recorder('Node', '-file', 'Data/DispFreeEx1aPush.out', '-time', '-node', 2, '-dof', *dofs, 'disp')     #  displacements of free node\n",
    "ops.recorder('Node', '-file', 'Data/DispBaseEx1aPush.out', '-time', '-node', 1, '-dof', *dofs, 'disp')     #  displacements of support node\n",
    "ops.recorder('Node', '-file', 'Data/ReacBaseEx1aPush.out', '-time', '-node', 1, '-dof', *dofs, 'reaction')     #  support reaction\n",
    "\n",
    "# https://openseespydoc.readthedocs.io/en/latest/src/elementRecorder.html#element-recorder-command\n",
    "# recorder('Element', '-file', filename, '-time', '-ele', *eleTags=[], '-eleRange', startEle, endEle, '-region', regionTag, *args)\n",
    "ops.recorder('Element', '-file', 'Data/FColEx1aPush.out', '-time', '-ele', 1, 'globalForce')     #  element forces -- column\n",
    "ops.recorder('Element', '-file', 'Data/DColEx1aPush.out', '-time', '-ele', 1, 'deformation')     #  element deformations -- column"
   ]
  },
  {
   "cell_type": "markdown",
   "metadata": {},
   "source": [
    "## Loads and Analysis"
   ]
  },
  {
   "cell_type": "markdown",
   "metadata": {},
   "source": [
    "### Model definition (Gravity Loads)"
   ]
  },
  {
   "cell_type": "code",
   "execution_count": 196,
   "metadata": {},
   "outputs": [],
   "source": [
    "# Define GRAVITY Loads-------------------------------------------------------------\n",
    "ops.timeSeries('Linear', 1)  # timeSeries Linear 1;\n",
    "\n",
    "# Define Load Pattern\n",
    "ops.pattern('Plain', 1, 1)\n",
    "ops.load(2, 0.0, Py, 0.0)   #  node , FX FY MZ -- superstructure-weight"
   ]
  },
  {
   "cell_type": "markdown",
   "metadata": {},
   "source": [
    "### Analysis generation (Gravity loads)"
   ]
  },
  {
   "cell_type": "code",
   "execution_count": 197,
   "metadata": {},
   "outputs": [],
   "source": [
    "ops.wipeAnalysis()     # adding this to clear Analysis module \n",
    "ops.system('BandGeneral')     #  how to store and solve the system of equations in the analysis\n",
    "ops.numberer('Plain')     #  renumber dofs to minimize band-width (optimization), if you want to\n",
    "ops.constraints('Plain')     #  how it handles boundary conditions\n",
    "ops.integrator('LoadControl',0.1)     #  determine the next time step for an analysis,   apply gravity in 10 steps\n",
    "ops.algorithm('Newton')     #  use Newtons solution algorithm: updates tangent stiffness at every iteration\n",
    "ops.analysis('Static')     #  define type of analysis static or transient\n",
    "\n",
    "ops.test('NormDispIncr',1.0e-8,6)     #  determine if convergence has been achieved at the end of an iteration step\n",
    "ops.analyze(10)     #  perform gravity analysis\n",
    "ops.loadConst('-time',0.0)     #  hold gravity constant and restart time"
   ]
  },
  {
   "cell_type": "code",
   "execution_count": 198,
   "metadata": {},
   "outputs": [
    {
     "name": "stdout",
     "output_type": "stream",
     "text": [
      "100\n"
     ]
    },
    {
     "data": {
      "image/png": "[encoded data removed]",
      "text/plain": [
       "<Figure size 640x480 with 1 Axes>"
      ]
     },
     "metadata": {},
     "output_type": "display_data"
    }
   ],
   "source": [
    "sfac = opsv.plot_defo(sfac = 100)\n",
    "plt.title('Deformed shape of column after gravity loads have been applied')\n",
    "print(sfac)"
   ]
  },
  {
   "cell_type": "markdown",
   "metadata": {},
   "source": [
    "### Model definition (Lateral loads)"
   ]
  },
  {
   "cell_type": "code",
   "execution_count": 199,
   "metadata": {},
   "outputs": [],
   "source": [
    "# define LATERAL load -------------------------------------------------------------\n",
    "# Lateral load pattern\n",
    "ops.timeSeries('Linear', 2)     # timeSeries Linear 2;\n",
    "# define Load Pattern\n",
    "ops.pattern('Plain', 2, 2) # \n",
    "ops.load(2, Px, 0.0, 0.0)    #  node , FX FY MZ -- REPRESENTATIVE lateral load at top node"
   ]
  },
  {
   "cell_type": "markdown",
   "metadata": {},
   "source": [
    "### Analysis generation (Lateral loads)"
   ]
  },
  {
   "cell_type": "code",
   "execution_count": 200,
   "metadata": {},
   "outputs": [
    {
     "name": "stdout",
     "output_type": "stream",
     "text": [
      "Horizontal displacement at top of column is set to be: 2.54 metres\n"
     ]
    },
    {
     "data": {
      "text/plain": [
       "0"
      ]
     },
     "execution_count": 200,
     "metadata": {},
     "output_type": "execute_result"
    }
   ],
   "source": [
    "# pushover: diplacement controlled static analysis\n",
    "# Note we do not wipe the analysis\n",
    "\n",
    "disp = 100 * inches\n",
    "print(f'Horizontal displacement at top of column is set to be: {disp} metres')\n",
    "steps = 1000 # Must be an integer\n",
    "incr = disp / steps\n",
    "ops.integrator('DisplacementControl', 2, 1, incr)     #  switch to displacement control, for node 2, dof 1, 0.1 increment\n",
    "ops.analyze(steps)"
   ]
  },
  {
   "cell_type": "code",
   "execution_count": 201,
   "metadata": {},
   "outputs": [
    {
     "name": "stdout",
     "output_type": "stream",
     "text": [
      "Done!\n"
     ]
    }
   ],
   "source": [
    "print('Done!')"
   ]
  },
  {
   "cell_type": "markdown",
   "metadata": {},
   "source": [
    "## Output"
   ]
  },
  {
   "cell_type": "code",
   "execution_count": 202,
   "metadata": {},
   "outputs": [
    {
     "data": {
      "text/plain": [
       "Text(0.5, 1.0, 'Deformed shape of column (Scale factor: 1)')"
      ]
     },
     "execution_count": 202,
     "metadata": {},
     "output_type": "execute_result"
    },
    {
     "data": {
      "image/png": "[encoded data removed]",
      "text/plain": [
       "<Figure size 640x480 with 1 Axes>"
      ]
     },
     "metadata": {},
     "output_type": "display_data"
    }
   ],
   "source": [
    "sfac = opsv.plot_defo(sfac = 1)\n",
    "plt.title(f'Deformed shape of column (Scale factor: {sfac})')"
   ]
  },
  {
   "cell_type": "markdown",
   "metadata": {},
   "source": [
    "Display the applied loads."
   ]
  },
  {
   "cell_type": "code",
   "execution_count": 203,
   "metadata": {},
   "outputs": [
    {
     "data": {
      "text/plain": [
       "<Axes: >"
      ]
     },
     "execution_count": 203,
     "metadata": {},
     "output_type": "execute_result"
    },
    {
     "data": {
      "image/png": "[encoded data removed]",
      "text/plain": [
       "<Figure size 640x480 with 1 Axes>"
      ]
     },
     "metadata": {},
     "output_type": "display_data"
    }
   ],
   "source": [
    "opsv.plot_loads_2d(nep=17, sfac=False, fig_wi_he=False, fig_lbrt=False, \n",
    "                   fmt_model_loads={'color': 'black', 'linestyle': 'solid', 'linewidth': 1.2, 'marker': '', 'markersize': 1}, \n",
    "                   node_supports=True, truss_node_offset=0, ax=False)"
   ]
  },
  {
   "cell_type": "markdown",
   "metadata": {},
   "source": [
    "The lateral load shown above is the load required to produce the specified horizontal displacement assuming the column remains elastic. We can check/compare this value with that given by the theoretical formula for maximum displacement of a cantilever beam with a point load at its free end."
   ]
  },
  {
   "cell_type": "code",
   "execution_count": 204,
   "metadata": {},
   "outputs": [
    {
     "name": "stdout",
     "output_type": "stream",
     "text": [
      "Maximum displacement: 2.540 m\n"
     ]
    }
   ],
   "source": [
    "# Check the applid horizontal load produces the expected displacement (Include picture of theoretical formula)\n",
    "expected_disp = (7.5566 * 10 ** 7 * colL ** 3) / (3 * E * Iz)\n",
    "print(f'Maximum displacement: {expected_disp:.3f} m')"
   ]
  },
  {
   "cell_type": "markdown",
   "metadata": {},
   "source": [
    "As expected, this agrees with the displacement we specified for the displacement controlled analysis."
   ]
  },
  {
   "cell_type": "code",
   "execution_count": 205,
   "metadata": {},
   "outputs": [
    {
     "name": "stderr",
     "output_type": "stream",
     "text": [
      "Current Domain Information\n",
      "\tCurrent Time: 7.55662e+07\n",
      "\tCommitted Time: 7.55662e+07\n",
      "NODE DATA: NumNodes: 2\n",
      "\n",
      "numComponents: 2\n",
      "\n",
      " Node: 1\n",
      "\tCoordinates  : 0 0 \n",
      "\tDisps: 0 0 0 \n",
      "\t unbalanced Load: 0 0 0 \n",
      "\t reaction: -7.55662e+07 8.89644e+06 8.29173e+08 \n",
      "\tID : -1 -1 -1 \n",
      "\n",
      "\n",
      " Node: 2\n",
      "\tCoordinates  : 0 10.9728 \n",
      "\tDisps: 2.54 -1.44211e-09 -0.347222 \n",
      "\t unbalanced Load: 7.55662e+07 -8.89644e+06 0 \n",
      "\t reaction: -2.98023e-08 0 -1.19209e-07 \n",
      "\tMass : \n",
      "906875 0 0 \n",
      "0 1e-09 0 \n",
      "0 0 0 \n",
      "\n",
      "\t Rayleigh Factor: alphaM: 0\n",
      "\t Rayleigh Forces: 0 0 0 \n",
      "\tID : 0 1 2 \n",
      "\n",
      "ELEMENT DATA: NumEle: 1\n",
      "\n",
      "numComponents: 1\n",
      "\n",
      "ElasticBeam2d: 1\n",
      "\tConnected Nodes: 1 2 \n",
      "\tCoordTransf: 1\n",
      "\tmass density:  0, cMass: 0\n",
      "\trelease code:  0\n",
      "\tEnd 1 Forces (P V M): 8.89644e+06 7.55662e+07 8.29173e+08\n",
      "\tEnd 2 Forces (P V M): -8.89644e+06 -7.55662e+07 -1.19209e-07\n",
      "\n",
      "SP_Constraints: numConstraints: 3\n",
      "\n",
      "numComponents: 3\n",
      "SP_Constraint: 0\t Node: 1 DOF: 1 ref value: 0 current value: 0 initial value: 0\n",
      "SP_Constraint: 1\t Node: 1 DOF: 2 ref value: 0 current value: 0 initial value: 0\n",
      "SP_Constraint: 2\t Node: 1 DOF: 3 ref value: 0 current value: 0 initial value: 0\n",
      "\n",
      "Pressure_Constraints: numConstraints: 0\n",
      "\n",
      "numComponents: 0\n",
      "\n",
      "MP_Constraints: numConstraints: 0\n",
      "\n",
      "numComponents: 0\n",
      "\n",
      "LOAD PATTERNS: numPatterns: 2\n",
      "\n",
      "\n",
      "numComponents: 2\n",
      "Load Pattern: 1\n",
      "  Scale Factor: 1\n",
      "Linear Series: constant factor: 1\n",
      "  Nodal Loads: \n",
      "\n",
      "numComponents: 1\n",
      "Nodal Load: 2 load : 0 -8.89644e+06 0 \n",
      "\n",
      "  Elemental Loads: \n",
      "\n",
      "numComponents: 0\n",
      "\n",
      "  Single Point Constraints: \n",
      "\n",
      "numComponents: 0\n",
      "Load Pattern: 2\n",
      "  Scale Factor: 1\n",
      "Linear Series: constant factor: 1\n",
      "  Nodal Loads: \n",
      "\n",
      "numComponents: 1\n",
      "Nodal Load: 2 load : 1 0 0 \n",
      "\n",
      "  Elemental Loads: \n",
      "\n",
      "numComponents: 0\n",
      "\n",
      "  Single Point Constraints: \n",
      "\n",
      "numComponents: 0\n",
      "\n",
      "PARAMETERS: numParameters: 0\n",
      "\n",
      "\n",
      "numComponents: 0\n"
     ]
    }
   ],
   "source": [
    "ops.printModel()"
   ]
  },
  {
   "cell_type": "code",
   "execution_count": 206,
   "metadata": {},
   "outputs": [
    {
     "name": "stdout",
     "output_type": "stream",
     "text": [
      "End of Run\n"
     ]
    },
    {
     "data": {
      "image/png": "[encoded data removed]",
      "text/plain": [
       "<Figure size 640x480 with 2 Axes>"
      ]
     },
     "metadata": {},
     "output_type": "display_data"
    }
   ],
   "source": [
    "# Load the data\n",
    "fname3 = 'Data/DispFreeEx1aPush.out'\n",
    "dataDFree = np.loadtxt(fname3)\n",
    "\n",
    "# Create a figure and axes instances\n",
    "fig, axes = plt.subplots(2, 1)\n",
    "\n",
    "# Plot on the first axis\n",
    "axes[0].set_title('Ex1a. Elastic Cantilever Column Pushover Analysis')\n",
    "axes[0].grid(True)\n",
    "axes[0].plot(dataDFree[:, 1])\n",
    "axes[0].set_xlabel('Step Number')\n",
    "axes[0].set_ylabel('Free-Node Disp. (m)')\n",
    "\n",
    "# Plot on the second axis\n",
    "axes[1].grid(True)\n",
    "axes[1].plot(dataDFree[:, 1], dataDFree[:, 0])\n",
    "axes[1].set_xlabel('Free-Node Disp. (m)')\n",
    "axes[1].set_ylabel('Pseudo-Time (~Force) (s)')\n",
    "\n",
    "# Display the plot\n",
    "plt.tight_layout()  # Adjust layout to prevent overlap\n",
    "\n",
    "# End of script\n",
    "print('End of Run')"
   ]
  }
 ],
 "metadata": {
  "kernelspec": {
   "display_name": "Python 3 (ipykernel)",
   "language": "python",
   "name": "python3"
  },
  "language_info": {
   "codemirror_mode": {
    "name": "ipython",
    "version": 3
   },
   "file_extension": ".py",
   "mimetype": "text/x-python",
   "name": "python",
   "nbconvert_exporter": "python",
   "pygments_lexer": "ipython3",
   "version": "3.11.5"
  }
 },
 "nbformat": 4,
 "nbformat_minor": 4
}
