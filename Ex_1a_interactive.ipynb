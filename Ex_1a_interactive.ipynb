{
 "cells": [
  {
   "cell_type": "code",
   "execution_count": 1,
   "metadata": {},
   "outputs": [],
   "source": [
    "import openseespy.opensees as ops\n",
    "import opsvis as opsv\n",
    "import os\n",
    "import numpy as np\n",
    "import matplotlib.pyplot as plt\n",
    "\n",
    "import ipywidgets as widgets\n",
    "from IPython.display import display"
   ]
  },
  {
   "cell_type": "code",
   "execution_count": 2,
   "metadata": {},
   "outputs": [],
   "source": [
    "if not os.path.exists('Data'): \n",
    "    os.mkdir('Data')\n",
    "\n",
    "ops.wipe()  # Clear opensees model"
   ]
  },
  {
   "cell_type": "code",
   "execution_count": 3,
   "metadata": {},
   "outputs": [],
   "source": [
    "# Defining base units for the simulation.\n",
    "m = 1.0  # Meter (base unit for length)\n",
    "s = 1.0  # Second (base unit for time)\n",
    "kg = 1.0  # Kilogram (base unit for mass)\n",
    "\n",
    "# Derived units for force and pressure.\n",
    "N = kg * m / s ** 2  # Newton (unit of force)\n",
    "Pa = N / m ** 2  # Pascal (unit of pressure)\n",
    "\n",
    "# Additional conversions for different units commonly used in structural engineering.\n",
    "inches = 0.0254 * m  # Conversion factor for inches to meters.\n",
    "ft = 12 * inches  # Conversion factor for feet to meters.\n",
    "kip = 4448.2216152548 * N  # Conversion factor for kips (1000 pounds-force) to Newtons.\n",
    "ksi = 6.895 * 10 ** 6 * Pa  # Conversion factor for ksi (1000 psi) to Pascals."
   ]
  },
  {
   "cell_type": "code",
   "execution_count": 4,
   "metadata": {},
   "outputs": [],
   "source": [
    "# # Create an IntSlider widget\n",
    "# slider = widgets.IntSlider(value=0, min=0, max=100, step=1, description='Column Height')\n",
    "\n",
    "# # Function to update the variable based on slider value\n",
    "# def update_variable(change):\n",
    "#     global colL\n",
    "#     colL = change['new']\n",
    "#     # print(f'Updated colL: {colL}')\n",
    "\n",
    "# # Observe changes in the slider's value\n",
    "# slider.observe(update_variable, names='value')\n",
    "\n",
    "# # Display the slider\n",
    "# display(slider)\n",
    "\n",
    "# # description='Column Length:'"
   ]
  },
  {
   "cell_type": "markdown",
   "metadata": {},
   "source": [
    "### Inputs"
   ]
  },
  {
   "cell_type": "code",
   "execution_count": 5,
   "metadata": {},
   "outputs": [
    {
     "data": {
      "application/vnd.jupyter.widget-view+json": {
       "model_id": "e4f92b03796440babac890218332f2b6",
       "version_major": 2,
       "version_minor": 0
      },
      "text/plain": [
       "FloatText(value=10.9728, description='Column Height (m):', style=DescriptionStyle(description_width='initial')…"
      ]
     },
     "metadata": {},
     "output_type": "display_data"
    },
    {
     "data": {
      "application/vnd.jupyter.widget-view+json": {
       "model_id": "12b09287d68f4493ba2896002ab71bc0",
       "version_major": 2,
       "version_minor": 0
      },
      "text/plain": [
       "FloatText(value=1.5239999999999998, description='Column breadth (m):', style=DescriptionStyle(description_widt…"
      ]
     },
     "metadata": {},
     "output_type": "display_data"
    },
    {
     "data": {
      "application/vnd.jupyter.widget-view+json": {
       "model_id": "b82fe40b55f84483b64e7a88c29a674d",
       "version_major": 2,
       "version_minor": 0
      },
      "text/plain": [
       "FloatText(value=1.5239999999999998, description='Column depth (m):', style=DescriptionStyle(description_width=…"
      ]
     },
     "metadata": {},
     "output_type": "display_data"
    },
    {
     "data": {
      "application/vnd.jupyter.widget-view+json": {
       "model_id": "926d2e8a40624cf0b439da9362c883fd",
       "version_major": 2,
       "version_minor": 0
      },
      "text/plain": [
       "FloatText(value=29145165000.0, description='Elastic modulus (Pa):', style=DescriptionStyle(description_width='…"
      ]
     },
     "metadata": {},
     "output_type": "display_data"
    },
    {
     "data": {
      "application/vnd.jupyter.widget-view+json": {
       "model_id": "50a3e1476bc14295965ac44f9e269f4b",
       "version_major": 2,
       "version_minor": 0
      },
      "text/plain": [
       "FloatText(value=-8896443.2305096, description='Vertical load (N):', style=DescriptionStyle(description_width='…"
      ]
     },
     "metadata": {},
     "output_type": "display_data"
    },
    {
     "data": {
      "application/vnd.jupyter.widget-view+json": {
       "model_id": "5c3fddef3e944d8ab0d12e150715c6f4",
       "version_major": 2,
       "version_minor": 0
      },
      "text/plain": [
       "FloatText(value=2.54, description='Horizontal displacement (m):', style=DescriptionStyle(description_width='in…"
      ]
     },
     "metadata": {},
     "output_type": "display_data"
    },
    {
     "data": {
      "application/vnd.jupyter.widget-view+json": {
       "model_id": "3d8ed29c95f64c3495d619de76f279a2",
       "version_major": 2,
       "version_minor": 0
      },
      "text/plain": [
       "Output(layout=Layout(border_bottom='1px solid black', border_left='1px solid black', border_right='1px solid b…"
      ]
     },
     "metadata": {},
     "output_type": "display_data"
    }
   ],
   "source": [
    "colL = widgets.FloatText(\n",
    "    value=36*ft,\n",
    "    description='Column Height (m):',\n",
    "    disabled=False,\n",
    "    style={'description_width': 'initial'}\n",
    ")\n",
    "\n",
    "# Cross-sectional dimensions\n",
    "b = widgets.FloatText(\n",
    "    value=5*ft,\n",
    "    description='Column breadth (m):',\n",
    "    disabled=False,\n",
    "    style={'description_width': 'initial'}\n",
    ") # Breadth\n",
    "\n",
    "d = widgets.FloatText(\n",
    "    value=5*ft,\n",
    "    description='Column depth (m):',\n",
    "    disabled=False,\n",
    "    style={'description_width': 'initial'}\n",
    ") # Depth\n",
    "\n",
    "E = widgets.FloatText(\n",
    "    value=4227 * ksi,\n",
    "    description='Elastic modulus (Pa):',\n",
    "    disabled=False,\n",
    "    style={'description_width': 'initial'}\n",
    ")\n",
    "\n",
    "Py = widgets.FloatText(\n",
    "    value=-2000.0 * kip,\n",
    "    description='Vertical load (N):',\n",
    "    disabled=False,\n",
    "    style={'description_width': 'initial'}\n",
    ")\n",
    "\n",
    "disp = widgets.FloatText(\n",
    "    value=100 * inches,\n",
    "    description='Horizontal displacement (m):',\n",
    "    disabled=False,\n",
    "    style={'description_width': 'initial'}\n",
    ")\n",
    "\n",
    "out_inputs = widgets.Output(layout={'border': '1px solid black'})\n",
    "\n",
    "button = widgets.Button(description=\"Run Analysis\", disabled = False)\n",
    "\n",
    "\n",
    "@out_inputs.capture(clear_output = True, wait = True)\n",
    "def model_definition_general(change):\n",
    "\n",
    "    button.disabled = False\n",
    "\n",
    "    # Nodal coordinates\n",
    "    n1 = (0.0, 0.0) # Use floating point values\n",
    "    n2 = (0.0, colL.value)\n",
    "\n",
    "    # Cross sectional area\n",
    "    A = b.value * d.value # Area\n",
    "\n",
    "    # Moment of Inertia\n",
    "    Iz = (b.value * d.value ** 3) / 12\n",
    "\n",
    "    Px = 1 # Lateral load\n",
    "\n",
    "    g = 9.81 # Gravitational acceleration (N / kg)\n",
    "\n",
    "    # Compute nodal mass\n",
    "    mass_x = abs(Py.value) / g # kg\n",
    "    # print(f'The nodal mass value corresponding to the horizontal DOF is {mass_x:.0f} kg') # \n",
    "    massValues = [mass_x, 1 * 10 ** -9, 0.0] # ndf nodal mass values corresponding to each DOF\n",
    "\n",
    "\n",
    "    # Model Definition\n",
    "\n",
    "    ops.wipe()  # Clear opensees model\n",
    "\n",
    "    ops.model('basic', '-ndm', 2, '-ndf', 3)    # 2D model with 3 degrees of freedom per node.\n",
    "\n",
    "    # Create nodes\n",
    "    nodal_crds = (n1, n2)\n",
    "    for nodeTag, crds in enumerate(nodal_crds, start = 1): # https://docs.python.org/3/library/functions.html#enumerate\n",
    "        ops.node(nodeTag, *crds)\n",
    "\n",
    "    # Boundary Conditions - single point constraints\n",
    "    constrValues = [1, 1, 1]\n",
    "    ops.fix(1, *constrValues)   # Node 1 is a fixed connection\n",
    "    # ops.fix(2, 0, 0, 0)         # Node 2 is free\n",
    "\n",
    "    # Define geometric transformation: performs a linear geometric transformation of beam stiffness and resisting force from the local-coordinate system to the global-coordinate system\n",
    "    ops.geomTransf('Linear', 1)     #  associate a tag of 1 to transformation\n",
    "\n",
    "    # connectivity: (make A very large, 10e6 times its actual value)\n",
    "    # element elasticBeamColumn eleTag iNode jNode A E Iz transfTag\n",
    "    ops.element('elasticBeamColumn', 1, 1, 2, A * 10 ** 6, E.value, Iz, 1)     # element elasticBeamColumn 1 1 2 3600000000 4227 1080000 1;\n",
    "\n",
    "    # nodal masses: Time - 23:30, 32:20\n",
    "    ops.mass(2, *massValues)     #  node ,  Mass=Weight/g.\n",
    "\n",
    "    opsv.plot_model()\n",
    "    plt.title('Model')\n",
    "    plt.ylabel('Height')\n",
    "    plt.show()\n",
    "\n",
    "\n",
    "colL.observe(model_definition_general, names='value')\n",
    "b.observe(model_definition_general, names='value')\n",
    "d.observe(model_definition_general, names='value')\n",
    "E.observe(model_definition_general, names='value')\n",
    "Py.observe(model_definition_general, names='value')\n",
    "disp.observe(model_definition_general, names='value')\n",
    "\n",
    "display(colL, b, d, E, Py, disp, out_inputs)"
   ]
  },
  {
   "cell_type": "code",
   "execution_count": 6,
   "metadata": {},
   "outputs": [
    {
     "data": {
      "application/vnd.jupyter.widget-view+json": {
       "model_id": "8ef604e7ecbc45b68223be2035eb4704",
       "version_major": 2,
       "version_minor": 0
      },
      "text/plain": [
       "Button(description='Run Analysis', style=ButtonStyle())"
      ]
     },
     "metadata": {},
     "output_type": "display_data"
    },
    {
     "data": {
      "application/vnd.jupyter.widget-view+json": {
       "model_id": "6ecefbdedde54bfaa6f9e63c228479c1",
       "version_major": 2,
       "version_minor": 0
      },
      "text/plain": [
       "Output(layout=Layout(border_bottom='1px solid black', border_left='1px solid black', border_right='1px solid b…"
      ]
     },
     "metadata": {},
     "output_type": "display_data"
    }
   ],
   "source": [
    "output_analysis = widgets.Output(layout={'border': '1px solid black'})\n",
    "\n",
    "display(button, output_analysis)\n",
    "\n",
    "@output_analysis.capture(clear_output = True)\n",
    "def on_button_clicked(b):\n",
    "    run_analysis(Py.value, disp.value)\n",
    "    button.disabled = True\n",
    "\n",
    "button.on_click(on_button_clicked)\n",
    "\n",
    "\n",
    "def run_analysis(Py, disp):\n",
    "\n",
    "    # Define RECORDERS -------------------------------------------------------------\n",
    "\n",
    "    # https://openseespydoc.readthedocs.io/en/latest/src/nodeRecorder.html#node-recorder-command\n",
    "    # recorder('Node', '-file', filename, '-time', '-node', *nodeTags=[], '-dof', *dofs=[], respType)\n",
    "    dofs = [1, 2, 3]\n",
    "    ops.recorder('Node', '-file', 'Data/DispFreeEx1aPush.out', '-time', '-node', 2, '-dof', *dofs, 'disp')     #  displacements of free node\n",
    "    ops.recorder('Node', '-file', 'Data/DispBaseEx1aPush.out', '-time', '-node', 1, '-dof', *dofs, 'disp')     #  displacements of support node\n",
    "    ops.recorder('Node', '-file', 'Data/ReacBaseEx1aPush.out', '-time', '-node', 1, '-dof', *dofs, 'reaction')     #  support reaction\n",
    "\n",
    "    # https://openseespydoc.readthedocs.io/en/latest/src/elementRecorder.html#element-recorder-command\n",
    "    # recorder('Element', '-file', filename, '-time', '-ele', *eleTags=[], '-eleRange', startEle, endEle, '-region', regionTag, *args)\n",
    "    ops.recorder('Element', '-file', 'Data/FColEx1aPush.out', '-time', '-ele', 1, 'globalForce')     #  element forces -- column\n",
    "    ops.recorder('Element', '-file', 'Data/DColEx1aPush.out', '-time', '-ele', 1, 'deformation')     #  element deformations -- column\n",
    "\n",
    "\n",
    "    # Define GRAVITY Loads-------------------------------------------------------------\n",
    "    ops.timeSeries('Linear', 1)  # timeSeries Linear 1;\n",
    "\n",
    "    # Define Load Pattern\n",
    "    ops.pattern('Plain', 1, 1)\n",
    "    ops.load(2, 0.0, Py, 0.0)   #  node , FX FY MZ -- superstructure-weight\n",
    "\n",
    "\n",
    "    ops.wipeAnalysis()     # adding this to clear Analysis module \n",
    "    ops.system('BandGeneral')     #  how to store and solve the system of equations in the analysis\n",
    "    ops.numberer('Plain')     #  renumber dofs to minimize band-width (optimization), if you want to\n",
    "    ops.constraints('Plain')     #  how it handles boundary conditions\n",
    "    ops.integrator('LoadControl',0.1)     #  determine the next time step for an analysis,   apply gravity in 10 steps\n",
    "    ops.algorithm('Newton')     #  use Newtons solution algorithm: updates tangent stiffness at every iteration\n",
    "    ops.analysis('Static')     #  define type of analysis static or transient\n",
    "\n",
    "    ops.test('NormDispIncr',1.0e-8,6)     #  determine if convergence has been achieved at the end of an iteration step\n",
    "    ops.analyze(10)     #  perform gravity analysis\n",
    "    ops.loadConst('-time',0.0)     #  hold gravity constant and restart time\n",
    "\n",
    "\n",
    "    # sfac = opsv.plot_defo(sfac = 100)\n",
    "    # plt.title('Deformed shape of column after gravity loads have been applied')\n",
    "    # plt.show()\n",
    "    \n",
    "    # define LATERAL load -------------------------------------------------------------\n",
    "    # Lateral load pattern\n",
    "    ops.timeSeries('Linear', 2)     # timeSeries Linear 2;\n",
    "    # define Load Pattern\n",
    "    Px = 1\n",
    "    ops.pattern('Plain', 2, 2) # \n",
    "    ops.load(2, Px, 0.0, 0.0)    #  node , FX FY MZ -- REPRESENTATIVE lateral load at top node\n",
    "\n",
    "    # pushover: diplacement controlled static analysis\n",
    "    # Note we do not wipe the analysis\n",
    "\n",
    "    # disp = 100 * inches\n",
    "    # print(f'Horizontal displacement at top of column is set to be: {disp} metres')\n",
    "    steps = 1000 # Must be an integer\n",
    "    incr = disp / steps\n",
    "    ops.integrator('DisplacementControl', 2, 1, incr)     #  switch to displacement control, for node 2, dof 1, 0.1 increment\n",
    "    ops.analyze(steps)\n",
    "\n",
    "\n",
    "    sfac = opsv.plot_defo(sfac = 1)\n",
    "    plt.title(f'Deformed shape of column (Scale factor: {sfac})')\n",
    "\n",
    "    opsv.plot_loads_2d(nep=17, sfac=False, fig_wi_he=False, fig_lbrt=False, \n",
    "                   fmt_model_loads={'color': 'black', 'linestyle': 'solid', 'linewidth': 1.2, 'marker': '', 'markersize': 1}, \n",
    "                   node_supports=True, truss_node_offset=0, ax=False)\n",
    "    plt.title('Loads applied to Column (N)')\n",
    "    plt.show()\n",
    "    \n",
    "    info = ops.printModel()"
   ]
  }
 ],
 "metadata": {
  "kernelspec": {
   "display_name": "venv_CMC02",
   "language": "python",
   "name": "python3"
  },
  "language_info": {
   "codemirror_mode": {
    "name": "ipython",
    "version": 3
   },
   "file_extension": ".py",
   "mimetype": "text/x-python",
   "name": "python",
   "nbconvert_exporter": "python",
   "pygments_lexer": "ipython3",
   "version": "3.11.5"
  }
 },
 "nbformat": 4,
 "nbformat_minor": 2
}
